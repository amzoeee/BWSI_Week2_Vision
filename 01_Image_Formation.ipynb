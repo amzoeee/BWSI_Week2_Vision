{
 "cells": [
  {
   "cell_type": "markdown",
   "metadata": {},
   "source": [
    "# Pinhole Camera Model Practice Questions"
   ]
  },
  {
   "cell_type": "code",
   "execution_count": null,
   "metadata": {},
   "outputs": [],
   "source": []
  },
  {
   "cell_type": "markdown",
   "metadata": {},
   "source": [
    "## Question 1: Perspective Projection"
   ]
  },
  {
   "cell_type": "markdown",
   "metadata": {},
   "source": [
    "A 3D point in the camera coordinate system is given by `p_c = [10, 5, 20]`. \n",
    "The camera has a focal length `f` of 50mm. \n",
    "Calculate the position of the projection of this point on the image plane in meters."
   ]
  },
  {
   "cell_type": "code",
   "execution_count": 2,
   "metadata": {},
   "outputs": [
    {
     "name": "stdout",
     "output_type": "stream",
     "text": [
      "0.025 0.0125\n"
     ]
    }
   ],
   "source": [
    "p_c = [10, 5, 20]\n",
    "x = (10/20 * 0.05)\n",
    "y = (5/20 * 0.05)\n",
    "\n",
    "print(x, y)"
   ]
  },
  {
   "cell_type": "markdown",
   "metadata": {},
   "source": [
    "---"
   ]
  },
  {
   "cell_type": "markdown",
   "metadata": {},
   "source": [
    "## Question 2: Conversion to Pixels"
   ]
  },
  {
   "cell_type": "markdown",
   "metadata": {},
   "source": [
    "Given the projected point from Question 1, convert its coordinates from meters to pixels. \n",
    "Assume the following intrinsic parameters: \n",
    "- `s_x` = 800 pixels/meter\n",
    "- `s_y` = 800 pixels/meter\n",
    "- `o_x` = 320 pixels\n",
    "- `o_y` = 240 pixels\n",
    "What are the pixel coordinates `(u^I, v^I)`?"
   ]
  },
  {
   "cell_type": "code",
   "execution_count": 3,
   "metadata": {},
   "outputs": [
    {
     "name": "stdout",
     "output_type": "stream",
     "text": [
      "340.0 250.0\n"
     ]
    }
   ],
   "source": [
    "print(x * 800 + 320, y * 800 + 240)"
   ]
  },
  {
   "cell_type": "markdown",
   "metadata": {},
   "source": [
    "---"
   ]
  },
  {
   "cell_type": "markdown",
   "metadata": {},
   "source": [
    "## Question 3: Intrinsic Matrix"
   ]
  },
  {
   "cell_type": "markdown",
   "metadata": {},
   "source": [
    "Construct the intrinsic calibration matrix `K` using the parameters from Question 2, assuming no skew (`s_θ = 0`)."
   ]
  },
  {
   "cell_type": "code",
   "execution_count": 25,
   "metadata": {},
   "outputs": [],
   "source": [
    "import numpy as np \n",
    "K = np.array([\n",
    "     [800*0.05, 0, 320],\n",
    "     [0, 800*0.05, 240],\n",
    "     [0, 0, 1]])"
   ]
  },
  {
   "cell_type": "markdown",
   "metadata": {},
   "source": [
    "---"
   ]
  },
  {
   "cell_type": "markdown",
   "metadata": {},
   "source": [
    "## Question 4: Point Projection with Known Pose"
   ]
  },
  {
   "cell_type": "markdown",
   "metadata": {},
   "source": [
    "A point in the world frame is given by `p_w = [2, 3, 50]`. The camera's pose `T_w^c` is given by an identity rotation matrix and a translation vector `t_w^c = [0, 0, 10]`. [cite_start]Using the intrinsic matrix `K` from Question 3, calculate the pixel coordinates of the projected point. [cite: 14, 16, 17]"
   ]
  },
  {
   "cell_type": "code",
   "execution_count": 26,
   "metadata": {},
   "outputs": [
    {
     "name": "stdout",
     "output_type": "stream",
     "text": [
      "[321.33333333 242.        ]\n"
     ]
    }
   ],
   "source": [
    "pose_matrix = np.array([\n",
    "    [1, 0, 0, 0],\n",
    "    [0, 1, 0, 0],\n",
    "    [0, 0, 1, 10]\n",
    "])\n",
    "\n",
    "point = np.array([2, 3, 50, 1])\n",
    "\n",
    "answer = K @ pose_matrix @ point\n",
    "answer = answer/(answer[2])\n",
    "print(answer[0:2])\n",
    "\n",
    "# u = 2/(50-10) * 0.05\n",
    "# v = 3/(50-10) * 0.05\n",
    "\n",
    "# u_pixels = u * 800 + 320\n",
    "# v_pixels = y * 800 + 240\n",
    "\n",
    "# print(u_pixels, v_pixels)\n",
    "\n"
   ]
  },
  {
   "cell_type": "markdown",
   "metadata": {},
   "source": [
    "---"
   ]
  },
  {
   "cell_type": "markdown",
   "metadata": {},
   "source": [
    "## Question 5: Radial Distortion"
   ]
  },
  {
   "cell_type": "markdown",
   "metadata": {},
   "source": [
    "A point is projected on the image plane at `(u_distort^I, v_distort^I) = (400, 350)` including radial distortion. Given distortion coefficients `a1 = 0.0001` and `a2 = 0.0000002` and the principal point `(o_x, o_y) = (320, 240)`, calculate the corrected pixel coordinates `(u^I, v^I)`."
   ]
  },
  {
   "cell_type": "code",
   "execution_count": 28,
   "metadata": {},
   "outputs": [
    {
     "name": "stdout",
     "output_type": "stream",
     "text": [
      "6023.999999999998 8082.999999999998\n"
     ]
    }
   ],
   "source": [
    "a1 = 0.0001 \n",
    "a2 = 0.0000002 \n",
    "o_x = 320 # needed for image frame\n",
    "o_y = 240 # needed for image frame\n",
    "u_distort = 400\n",
    "v_distort = 350\n",
    "# r_sq = (u_distort)**2 + (v_distort)**2 # in camera frame\n",
    "r_sq = (u_distort - o_x)**2 + (v_distort - o_y)**2 # in image frame\n",
    "\n",
    "# u_corrected = (1 + a1*r_sq + a2*r_sq*r_sq) * (u_distort) # in camera frame\n",
    "# v_corrected = (1 + a1*r_sq + a2*r_sq*r_sq) * (v_distort) # in camera frame\n",
    "u_corrected = (1 + a1*r_sq + a2*r_sq*r_sq) * (u_distort - o_x) + o_x # in image frame\n",
    "v_corrected = (1 + a1*r_sq + a2*r_sq*r_sq) * (v_distort - o_y) + o_y # in image frame\n",
    "\n",
    "print(u_corrected, v_corrected)"
   ]
  }
 ],
 "metadata": {
  "kernelspec": {
   "display_name": "bwsi",
   "language": "python",
   "name": "python3"
  },
  "language_info": {
   "codemirror_mode": {
    "name": "ipython",
    "version": 3
   },
   "file_extension": ".py",
   "mimetype": "text/x-python",
   "name": "python",
   "nbconvert_exporter": "python",
   "pygments_lexer": "ipython3",
   "version": "3.12.11"
  }
 },
 "nbformat": 4,
 "nbformat_minor": 4
}
